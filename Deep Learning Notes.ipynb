{
 "cells": [
  {
   "cell_type": "markdown",
   "metadata": {},
   "source": [
    "# WEEK1 线性代数"
   ]
  },
  {
   "cell_type": "markdown",
   "metadata": {},
   "source": [
    "## 1. 范数总结"
   ]
  },
  {
   "cell_type": "markdown",
   "metadata": {},
   "source": [
    "### 常用范数定义\n",
    "- **范数（norm）**：用于衡量向量大小的函数，向量$x$的范数表示原点到点$x$的距离。\n",
    "\n",
    "- $L^p$范数的定义为：$\\left \\| x \\right \\|_p = (\\sum_i\\left | x_i \\right |^p)^\\frac{1}{p}$\n",
    "\n",
    "- 欧几里得范数（$L^2$范数）：$\\left \\|x\\right \\| = (\\sum_i\\left | x_i \\right |^2)^\\frac{1}{2}$\n",
    "\n",
    "- 平方$L^2$范数：$x^\\top x$\n",
    "\n",
    "- 平方$L^2$范数比$L^2$范数更方便，但在原点附近增长缓慢，因此在需要区分零和非零但值很小的元素时，转而使用$L^1$范数。\n",
    "\n",
    "- $L^1$范数：$\\left \\|x\\right \\|_1 = \\sum_i\\left | x_i \\right |$\n",
    "\n",
    "- 最大范数($L^\\infty$)：$\\left \\|x\\right \\|_\\infty = \\max_i\\left | x_i \\right |$。用来表示向量中具有最大辐值的元素的绝对值。\n",
    "\n",
    "- Frobenius范数：$\\left \\| A \\right \\|_F = \\sqrt{\\sum_{i,j} A^2_{i,j}}$。衡量矩阵大小。"
   ]
  },
  {
   "cell_type": "markdown",
   "metadata": {},
   "source": [
    "### numpy 求范数\n",
    "**numpy.linalg.norm(x, ord=None, axis=None)**\n",
    "\n",
    "ord参数：\n",
    "\n",
    "\n",
    "ord |norm for matrices |norm for vectors\n",
    "--- |    ---       |---\n",
    "None | Frobenius norm | 2-norm\n",
    "‘fro’| Frobenius norm| –\n",
    "inf |max(sum(abs(x), axis=1))|最大范数\n",
    "-inf|min(sum(abs(x), axis=1))|min(abs(x))\n",
    "0| – | sum(x != 0)\n",
    "1 | max(sum(abs(x), axis=0))|L1范数\n",
    "-1 |min(sum(abs(x), axis=0))|sum(abs(x)** ord)** (1./ord)"
   ]
  },
  {
   "cell_type": "code",
   "execution_count": 1,
   "metadata": {},
   "outputs": [
    {
     "name": "stdout",
     "output_type": "stream",
     "text": [
      "arr:\n",
      "[-4 -3 -2 -1  0  1  2  3  4]\n",
      "\n",
      "mat:\n",
      "[[-4 -3 -2]\n",
      " [-1  0  1]\n",
      " [ 2  3  4]]\n",
      "-------------------------------\n",
      "2-norm: 7.745966692414834\n",
      "max-norm: 4.0\n",
      "1-norm: 20.0\n",
      "矩阵fro范数：7.745966692414834\n"
     ]
    }
   ],
   "source": [
    "# numpy 求范数：np.linalg.norm\n",
    "import numpy as np\n",
    "from numpy import linalg as LA\n",
    "\n",
    "arr = np.arange(9) - 4\n",
    "mat = arr.reshape(3,3)\n",
    "\n",
    "print('arr:')\n",
    "print(arr)\n",
    "print('')\n",
    "print('mat:')\n",
    "print(mat)\n",
    "print('-------------------------------')\n",
    "print('2-norm: ' + str(LA.norm(arr)))\n",
    "print('max-norm: ' + str(LA.norm(arr,np.inf)))\n",
    "print('1-norm: ' + str(LA.norm(arr,1)))\n",
    "print('矩阵fro范数：' + str(LA.norm(mat,'fro')))"
   ]
  }
 ],
 "metadata": {
  "kernelspec": {
   "display_name": "Python 3",
   "language": "python",
   "name": "python3"
  },
  "language_info": {
   "codemirror_mode": {
    "name": "ipython",
    "version": 3
   },
   "file_extension": ".py",
   "mimetype": "text/x-python",
   "name": "python",
   "nbconvert_exporter": "python",
   "pygments_lexer": "ipython3",
   "version": "3.7.2"
  }
 },
 "nbformat": 4,
 "nbformat_minor": 2
}
