{
 "cells": [
  {
   "cell_type": "markdown",
   "metadata": {},
   "source": [
    "# WEEK1 线性代数"
   ]
  },
  {
   "cell_type": "markdown",
   "metadata": {},
   "source": [
    "## 1. 范数总结"
   ]
  },
  {
   "cell_type": "markdown",
   "metadata": {},
   "source": [
    "- **范数（norm）**：用于衡量向量大小的函数，向量$x$的范数表示原点到点$x$的距离。\n",
    "\n",
    "- $L^p$范数的定义为：$\\left \\| x \\right \\|_p = (\\sum_i\\left | x_i \\right |^p)^\\frac{1}{p}$\n",
    "\n",
    "- 欧几里得范数（$L^2$范数）:$\\left \\|x\\right \\| = (\\sum_i\\left | x_i \\right |^2)^\\frac{1}{2}$"
   ]
  },
  {
   "cell_type": "code",
   "execution_count": null,
   "metadata": {},
   "outputs": [],
   "source": []
  }
 ],
 "metadata": {
  "kernelspec": {
   "display_name": "Python 3",
   "language": "python",
   "name": "python3"
  },
  "language_info": {
   "codemirror_mode": {
    "name": "ipython",
    "version": 3
   },
   "file_extension": ".py",
   "mimetype": "text/x-python",
   "name": "python",
   "nbconvert_exporter": "python",
   "pygments_lexer": "ipython3",
   "version": "3.7.2"
  }
 },
 "nbformat": 4,
 "nbformat_minor": 2
}
